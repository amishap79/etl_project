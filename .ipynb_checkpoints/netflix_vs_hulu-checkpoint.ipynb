{
 "cells": [
  {
   "cell_type": "code",
   "execution_count": 1,
   "metadata": {},
   "outputs": [],
   "source": [
    "import pandas as pd"
   ]
  },
  {
   "cell_type": "code",
   "execution_count": null,
   "metadata": {},
   "outputs": [],
   "source": [
    "# loading netflix data\n",
    "raw_netflix_path = \"./Resources/netflix.csv\"\n",
    "raw_netflix_pd = pd.read_csv(raw_netflix_path)"
   ]
  },
  {
   "cell_type": "code",
   "execution_count": null,
   "metadata": {},
   "outputs": [],
   "source": [
    "transformed_netflix = raw_netflix_pd[[\n",
    "    \"show_id\", 'type', 'title', 'date_added', 'rating', 'listed_in']].copy()\n",
    "\n",
    "# transformed_netflix"
   ]
  },
  {
   "cell_type": "code",
   "execution_count": null,
   "metadata": {},
   "outputs": [],
   "source": [
    "transformed_netflix = transformed_netflix.rename(columns={'listed_in': 'genre', 'title':'show_name'})\n",
    "transformed_netflix['id'] = transformed_netflix.index\n",
    "transformed_netflix = transformed_netflix.dropna()\n",
    "transformed_netflix"
   ]
  },
  {
   "cell_type": "code",
   "execution_count": null,
   "metadata": {},
   "outputs": [],
   "source": [
    "# loading hulu data\n",
    "raw_hulu_path = \"./Resources/hulu.csv\"\n",
    "raw_hulu_pd = pd.read_csv(raw_hulu_path)"
   ]
  },
  {
   "cell_type": "code",
   "execution_count": null,
   "metadata": {},
   "outputs": [],
   "source": [
    "transformed_hulu = raw_hulu_pd[[\n",
    "    \"show_id\", 'show_type', 'show_name', \n",
    "    'show_show_rollups_auth_on_web_latest_video_added_at', \n",
    "    'show_show_rollups_current_highest_rating', \n",
    "    'show_genre']].copy()\n",
    "\n",
    "# transformed_hulu"
   ]
  },
  {
   "cell_type": "code",
   "execution_count": null,
   "metadata": {},
   "outputs": [],
   "source": [
    "transformed_hulu = transformed_hulu.rename( \\\n",
    "    columns={'show_show_rollups_auth_on_web_latest_video_added_at': 'date_add', \\\n",
    "             'show_show_rollups_current_highest_rating':'rating'})\n",
    "transformed_hulu['id'] = transformed_hulu.index\n",
    "transformed_hulu = transformed_hulu.dropna()\n",
    "transformed_hulu"
   ]
  },
  {
   "cell_type": "code",
   "execution_count": null,
   "metadata": {},
   "outputs": [],
   "source": []
  },
  {
   "cell_type": "code",
   "execution_count": null,
   "metadata": {},
   "outputs": [],
   "source": []
  }
 ],
 "metadata": {
  "kernelspec": {
   "display_name": "Python 3",
   "language": "python",
   "name": "python3"
  },
  "language_info": {
   "codemirror_mode": {
    "name": "ipython",
    "version": 3
   },
   "file_extension": ".py",
   "mimetype": "text/x-python",
   "name": "python",
   "nbconvert_exporter": "python",
   "pygments_lexer": "ipython3",
   "version": "3.7.4"
  }
 },
 "nbformat": 4,
 "nbformat_minor": 2
}
