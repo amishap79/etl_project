{
 "cells": [
  {
   "cell_type": "code",
   "execution_count": 1,
   "metadata": {},
   "outputs": [],
   "source": [
    "import pandas as pd"
   ]
  },
  {
   "cell_type": "code",
   "execution_count": 2,
   "metadata": {},
   "outputs": [],
   "source": [
    "# loading netflix data\n",
    "raw_netflix_path = \"./Resources/netflix.csv\"\n",
    "raw_netflix_pd = pd.read_csv(raw_netflix_path)"
   ]
  },
  {
   "cell_type": "code",
   "execution_count": 4,
   "metadata": {},
   "outputs": [],
   "source": [
    "transformed_netflix = raw_netflix_pd[[\n",
    "    \"show_id\", 'type', 'title', 'date_added', 'rating', 'listed_in']].copy()\n",
    "\n",
    "# transformed_netflix"
   ]
  },
  {
   "cell_type": "code",
   "execution_count": 5,
   "metadata": {},
   "outputs": [
    {
     "data": {
      "text/html": [
       "<div>\n",
       "<style scoped>\n",
       "    .dataframe tbody tr th:only-of-type {\n",
       "        vertical-align: middle;\n",
       "    }\n",
       "\n",
       "    .dataframe tbody tr th {\n",
       "        vertical-align: top;\n",
       "    }\n",
       "\n",
       "    .dataframe thead th {\n",
       "        text-align: right;\n",
       "    }\n",
       "</style>\n",
       "<table border=\"1\" class=\"dataframe\">\n",
       "  <thead>\n",
       "    <tr style=\"text-align: right;\">\n",
       "      <th></th>\n",
       "      <th>show_id</th>\n",
       "      <th>type</th>\n",
       "      <th>show_name</th>\n",
       "      <th>date_added</th>\n",
       "      <th>rating</th>\n",
       "      <th>genre</th>\n",
       "    </tr>\n",
       "  </thead>\n",
       "  <tbody>\n",
       "    <tr>\n",
       "      <td>0</td>\n",
       "      <td>81145628</td>\n",
       "      <td>Movie</td>\n",
       "      <td>Norm of the North: King Sized Adventure</td>\n",
       "      <td>September 9, 2019</td>\n",
       "      <td>TV-PG</td>\n",
       "      <td>Children &amp; Family Movies, Comedies</td>\n",
       "    </tr>\n",
       "    <tr>\n",
       "      <td>1</td>\n",
       "      <td>80117401</td>\n",
       "      <td>Movie</td>\n",
       "      <td>Jandino: Whatever it Takes</td>\n",
       "      <td>September 9, 2016</td>\n",
       "      <td>TV-MA</td>\n",
       "      <td>Stand-Up Comedy</td>\n",
       "    </tr>\n",
       "    <tr>\n",
       "      <td>2</td>\n",
       "      <td>70234439</td>\n",
       "      <td>TV Show</td>\n",
       "      <td>Transformers Prime</td>\n",
       "      <td>September 8, 2018</td>\n",
       "      <td>TV-Y7-FV</td>\n",
       "      <td>Kids' TV</td>\n",
       "    </tr>\n",
       "    <tr>\n",
       "      <td>3</td>\n",
       "      <td>80058654</td>\n",
       "      <td>TV Show</td>\n",
       "      <td>Transformers: Robots in Disguise</td>\n",
       "      <td>September 8, 2018</td>\n",
       "      <td>TV-Y7</td>\n",
       "      <td>Kids' TV</td>\n",
       "    </tr>\n",
       "    <tr>\n",
       "      <td>4</td>\n",
       "      <td>80125979</td>\n",
       "      <td>Movie</td>\n",
       "      <td>#realityhigh</td>\n",
       "      <td>September 8, 2017</td>\n",
       "      <td>TV-14</td>\n",
       "      <td>Comedies</td>\n",
       "    </tr>\n",
       "    <tr>\n",
       "      <td>...</td>\n",
       "      <td>...</td>\n",
       "      <td>...</td>\n",
       "      <td>...</td>\n",
       "      <td>...</td>\n",
       "      <td>...</td>\n",
       "      <td>...</td>\n",
       "    </tr>\n",
       "    <tr>\n",
       "      <td>6218</td>\n",
       "      <td>80162994</td>\n",
       "      <td>TV Show</td>\n",
       "      <td>Talking Tom and Friends</td>\n",
       "      <td>April 10, 2019</td>\n",
       "      <td>TV-G</td>\n",
       "      <td>Kids' TV, TV Comedies</td>\n",
       "    </tr>\n",
       "    <tr>\n",
       "      <td>6219</td>\n",
       "      <td>80186475</td>\n",
       "      <td>TV Show</td>\n",
       "      <td>Pokémon the Series</td>\n",
       "      <td>April 1, 2019</td>\n",
       "      <td>TV-Y7-FV</td>\n",
       "      <td>Anime Series, Kids' TV</td>\n",
       "    </tr>\n",
       "    <tr>\n",
       "      <td>6220</td>\n",
       "      <td>70272742</td>\n",
       "      <td>TV Show</td>\n",
       "      <td>Justin Time</td>\n",
       "      <td>April 1, 2016</td>\n",
       "      <td>TV-Y</td>\n",
       "      <td>Kids' TV</td>\n",
       "    </tr>\n",
       "    <tr>\n",
       "      <td>6221</td>\n",
       "      <td>80067942</td>\n",
       "      <td>TV Show</td>\n",
       "      <td>Terrace House: Boys &amp; Girls in the City</td>\n",
       "      <td>April 1, 2016</td>\n",
       "      <td>TV-14</td>\n",
       "      <td>International TV Shows, Reality TV</td>\n",
       "    </tr>\n",
       "    <tr>\n",
       "      <td>6222</td>\n",
       "      <td>70136122</td>\n",
       "      <td>TV Show</td>\n",
       "      <td>Weeds</td>\n",
       "      <td>April 1, 2014</td>\n",
       "      <td>TV-MA</td>\n",
       "      <td>TV Comedies, TV Dramas</td>\n",
       "    </tr>\n",
       "  </tbody>\n",
       "</table>\n",
       "<p>6214 rows × 6 columns</p>\n",
       "</div>"
      ],
      "text/plain": [
       "       show_id     type                                show_name  \\\n",
       "0     81145628    Movie  Norm of the North: King Sized Adventure   \n",
       "1     80117401    Movie               Jandino: Whatever it Takes   \n",
       "2     70234439  TV Show                       Transformers Prime   \n",
       "3     80058654  TV Show         Transformers: Robots in Disguise   \n",
       "4     80125979    Movie                             #realityhigh   \n",
       "...        ...      ...                                      ...   \n",
       "6218  80162994  TV Show                  Talking Tom and Friends   \n",
       "6219  80186475  TV Show                       Pokémon the Series   \n",
       "6220  70272742  TV Show                              Justin Time   \n",
       "6221  80067942  TV Show  Terrace House: Boys & Girls in the City   \n",
       "6222  70136122  TV Show                                    Weeds   \n",
       "\n",
       "             date_added    rating                               genre  \n",
       "0     September 9, 2019     TV-PG  Children & Family Movies, Comedies  \n",
       "1     September 9, 2016     TV-MA                     Stand-Up Comedy  \n",
       "2     September 8, 2018  TV-Y7-FV                            Kids' TV  \n",
       "3     September 8, 2018     TV-Y7                            Kids' TV  \n",
       "4     September 8, 2017     TV-14                            Comedies  \n",
       "...                 ...       ...                                 ...  \n",
       "6218     April 10, 2019      TV-G               Kids' TV, TV Comedies  \n",
       "6219      April 1, 2019  TV-Y7-FV              Anime Series, Kids' TV  \n",
       "6220      April 1, 2016      TV-Y                            Kids' TV  \n",
       "6221      April 1, 2016     TV-14  International TV Shows, Reality TV  \n",
       "6222      April 1, 2014     TV-MA              TV Comedies, TV Dramas  \n",
       "\n",
       "[6214 rows x 6 columns]"
      ]
     },
     "execution_count": 5,
     "metadata": {},
     "output_type": "execute_result"
    }
   ],
   "source": [
    "transformed_netflix = transformed_netflix.rename(columns={'listed_in': 'genre', 'title':'show_name'})\n",
    "transformed_netflix = transformed_netflix.dropna()\n",
    "transformed_netflix"
   ]
  },
  {
   "cell_type": "code",
   "execution_count": 6,
   "metadata": {},
   "outputs": [],
   "source": [
    "# loading hulu data\n",
    "raw_hulu_path = \"./Resources/hulu.csv\"\n",
    "raw_hulu_pd = pd.read_csv(raw_hulu_path)"
   ]
  },
  {
   "cell_type": "code",
   "execution_count": 7,
   "metadata": {},
   "outputs": [],
   "source": [
    "transformed_hulu = raw_hulu_pd[[\n",
    "    \"show_id\", 'show_type', 'show_name', \n",
    "    'show_show_rollups_auth_on_web_latest_video_added_at', \n",
    "    'show_show_rollups_current_highest_rating', \n",
    "    'show_genre']].copy()\n",
    "\n",
    "# transformed_hulu"
   ]
  },
  {
   "cell_type": "code",
   "execution_count": 11,
   "metadata": {},
   "outputs": [
    {
     "ename": "KeyError",
     "evalue": "'None of [0] are in the columns'",
     "output_type": "error",
     "traceback": [
      "\u001b[1;31m---------------------------------------------------------------------------\u001b[0m",
      "\u001b[1;31mKeyError\u001b[0m                                  Traceback (most recent call last)",
      "\u001b[1;32m<ipython-input-11-0d03b4aed90d>\u001b[0m in \u001b[0;36m<module>\u001b[1;34m\u001b[0m\n\u001b[0;32m      2\u001b[0m     columns={'show_show_rollups_auth_on_web_latest_video_added_at': 'date_add', \\\n\u001b[0;32m      3\u001b[0m              'show_show_rollups_current_highest_rating':'rating'})\n\u001b[1;32m----> 4\u001b[1;33m \u001b[0mtransformed_hulu\u001b[0m \u001b[1;33m=\u001b[0m \u001b[0mtransformed_hulu\u001b[0m\u001b[1;33m.\u001b[0m\u001b[0mset_index\u001b[0m\u001b[1;33m(\u001b[0m\u001b[1;36m0\u001b[0m\u001b[1;33m)\u001b[0m\u001b[1;33m\u001b[0m\u001b[1;33m\u001b[0m\u001b[0m\n\u001b[0m\u001b[0;32m      5\u001b[0m \u001b[0mtransformed_hulu\u001b[0m \u001b[1;33m=\u001b[0m \u001b[0mtransformed_hulu\u001b[0m\u001b[1;33m.\u001b[0m\u001b[0mdropna\u001b[0m\u001b[1;33m(\u001b[0m\u001b[1;33m)\u001b[0m\u001b[1;33m\u001b[0m\u001b[1;33m\u001b[0m\u001b[0m\n\u001b[0;32m      6\u001b[0m \u001b[0mtransformed_hulu\u001b[0m\u001b[1;33m\u001b[0m\u001b[1;33m\u001b[0m\u001b[0m\n",
      "\u001b[1;32m~\\Anaconda3\\lib\\site-packages\\pandas\\core\\frame.py\u001b[0m in \u001b[0;36mset_index\u001b[1;34m(self, keys, drop, append, inplace, verify_integrity)\u001b[0m\n\u001b[0;32m   4394\u001b[0m \u001b[1;33m\u001b[0m\u001b[0m\n\u001b[0;32m   4395\u001b[0m         \u001b[1;32mif\u001b[0m \u001b[0mmissing\u001b[0m\u001b[1;33m:\u001b[0m\u001b[1;33m\u001b[0m\u001b[1;33m\u001b[0m\u001b[0m\n\u001b[1;32m-> 4396\u001b[1;33m             \u001b[1;32mraise\u001b[0m \u001b[0mKeyError\u001b[0m\u001b[1;33m(\u001b[0m\u001b[1;34m\"None of {} are in the columns\"\u001b[0m\u001b[1;33m.\u001b[0m\u001b[0mformat\u001b[0m\u001b[1;33m(\u001b[0m\u001b[0mmissing\u001b[0m\u001b[1;33m)\u001b[0m\u001b[1;33m)\u001b[0m\u001b[1;33m\u001b[0m\u001b[1;33m\u001b[0m\u001b[0m\n\u001b[0m\u001b[0;32m   4397\u001b[0m \u001b[1;33m\u001b[0m\u001b[0m\n\u001b[0;32m   4398\u001b[0m         \u001b[1;32mif\u001b[0m \u001b[0minplace\u001b[0m\u001b[1;33m:\u001b[0m\u001b[1;33m\u001b[0m\u001b[1;33m\u001b[0m\u001b[0m\n",
      "\u001b[1;31mKeyError\u001b[0m: 'None of [0] are in the columns'"
     ]
    }
   ],
   "source": [
    "transformed_hulu = transformed_hulu.rename( \\\n",
    "    columns={'show_show_rollups_auth_on_web_latest_video_added_at': 'date_add', \\\n",
    "             'show_show_rollups_current_highest_rating':'rating'})\n",
    "transformed_hulu = transformed_hulu.set_index(0)\n",
    "transformed_hulu = transformed_hulu.dropna()\n",
    "transformed_hulu"
   ]
  },
  {
   "cell_type": "code",
   "execution_count": null,
   "metadata": {},
   "outputs": [],
   "source": []
  },
  {
   "cell_type": "code",
   "execution_count": null,
   "metadata": {},
   "outputs": [],
   "source": []
  }
 ],
 "metadata": {
  "kernelspec": {
   "display_name": "Python 3",
   "language": "python",
   "name": "python3"
  },
  "language_info": {
   "codemirror_mode": {
    "name": "ipython",
    "version": 3
   },
   "file_extension": ".py",
   "mimetype": "text/x-python",
   "name": "python",
   "nbconvert_exporter": "python",
   "pygments_lexer": "ipython3",
   "version": "3.7.4"
  }
 },
 "nbformat": 4,
 "nbformat_minor": 2
}
